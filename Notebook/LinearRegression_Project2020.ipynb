{
 "cells": [
  {
   "cell_type": "markdown",
   "metadata": {},
   "source": [
    "# Project 2020\n",
    "Using Linear Regression I am to determine the power output from a wind turbine based on wind speed, the goal of this is not to simply use scikit's LinearRegression function to simply put a straight line on a plot. While it certainly will be doing that the challenge (and learning opportunity), is to determine how good of a fit the line is and can we improve upon it to be (reasonably) certain we have the best fit.\n",
    "\n",
    "I will be comparing the line of fit and how good it is vs. the numpy polyfit equivalent."
   ]
  },
  {
   "cell_type": "code",
   "execution_count": 31,
   "metadata": {},
   "outputs": [],
   "source": [
    "import pandas as pd\n",
    "import seaborn\n",
    "import matplotlib.pyplot as plt\n",
    "from sklearn.linear_model import LinearRegression\n",
    "import sklearn.model_selection as mod\n",
    "import numpy as np"
   ]
  },
  {
   "cell_type": "markdown",
   "metadata": {},
   "source": [
    "### Inspecting the csv"
   ]
  },
  {
   "cell_type": "code",
   "execution_count": 32,
   "metadata": {},
   "outputs": [
    {
     "data": {
      "text/html": [
       "<div>\n",
       "<style scoped>\n",
       "    .dataframe tbody tr th:only-of-type {\n",
       "        vertical-align: middle;\n",
       "    }\n",
       "\n",
       "    .dataframe tbody tr th {\n",
       "        vertical-align: top;\n",
       "    }\n",
       "\n",
       "    .dataframe thead th {\n",
       "        text-align: right;\n",
       "    }\n",
       "</style>\n",
       "<table border=\"1\" class=\"dataframe\">\n",
       "  <thead>\n",
       "    <tr style=\"text-align: right;\">\n",
       "      <th></th>\n",
       "      <th>speed</th>\n",
       "      <th>power</th>\n",
       "    </tr>\n",
       "  </thead>\n",
       "  <tbody>\n",
       "    <tr>\n",
       "      <th>count</th>\n",
       "      <td>500.000000</td>\n",
       "      <td>500.000000</td>\n",
       "    </tr>\n",
       "    <tr>\n",
       "      <th>mean</th>\n",
       "      <td>12.590398</td>\n",
       "      <td>48.014584</td>\n",
       "    </tr>\n",
       "    <tr>\n",
       "      <th>std</th>\n",
       "      <td>7.224991</td>\n",
       "      <td>41.614572</td>\n",
       "    </tr>\n",
       "    <tr>\n",
       "      <th>min</th>\n",
       "      <td>0.000000</td>\n",
       "      <td>0.000000</td>\n",
       "    </tr>\n",
       "    <tr>\n",
       "      <th>25%</th>\n",
       "      <td>6.324750</td>\n",
       "      <td>5.288000</td>\n",
       "    </tr>\n",
       "    <tr>\n",
       "      <th>50%</th>\n",
       "      <td>12.550500</td>\n",
       "      <td>41.645500</td>\n",
       "    </tr>\n",
       "    <tr>\n",
       "      <th>75%</th>\n",
       "      <td>18.775250</td>\n",
       "      <td>93.537000</td>\n",
       "    </tr>\n",
       "    <tr>\n",
       "      <th>max</th>\n",
       "      <td>25.000000</td>\n",
       "      <td>113.556000</td>\n",
       "    </tr>\n",
       "  </tbody>\n",
       "</table>\n",
       "</div>"
      ],
      "text/plain": [
       "            speed       power\n",
       "count  500.000000  500.000000\n",
       "mean    12.590398   48.014584\n",
       "std      7.224991   41.614572\n",
       "min      0.000000    0.000000\n",
       "25%      6.324750    5.288000\n",
       "50%     12.550500   41.645500\n",
       "75%     18.775250   93.537000\n",
       "max     25.000000  113.556000"
      ]
     },
     "execution_count": 32,
     "metadata": {},
     "output_type": "execute_result"
    }
   ],
   "source": [
    "powerprod_df = pd.read_csv('..\\data\\powerproduction.csv')\n",
    "powerprod_df.describe()"
   ]
  },
  {
   "cell_type": "code",
   "execution_count": 33,
   "metadata": {},
   "outputs": [
    {
     "data": {
      "text/html": [
       "<div>\n",
       "<style scoped>\n",
       "    .dataframe tbody tr th:only-of-type {\n",
       "        vertical-align: middle;\n",
       "    }\n",
       "\n",
       "    .dataframe tbody tr th {\n",
       "        vertical-align: top;\n",
       "    }\n",
       "\n",
       "    .dataframe thead th {\n",
       "        text-align: right;\n",
       "    }\n",
       "</style>\n",
       "<table border=\"1\" class=\"dataframe\">\n",
       "  <thead>\n",
       "    <tr style=\"text-align: right;\">\n",
       "      <th></th>\n",
       "      <th>speed</th>\n",
       "      <th>power</th>\n",
       "    </tr>\n",
       "  </thead>\n",
       "  <tbody>\n",
       "    <tr>\n",
       "      <th>0</th>\n",
       "      <td>0.000</td>\n",
       "      <td>0.0</td>\n",
       "    </tr>\n",
       "    <tr>\n",
       "      <th>1</th>\n",
       "      <td>0.125</td>\n",
       "      <td>0.0</td>\n",
       "    </tr>\n",
       "    <tr>\n",
       "      <th>2</th>\n",
       "      <td>0.150</td>\n",
       "      <td>0.0</td>\n",
       "    </tr>\n",
       "    <tr>\n",
       "      <th>3</th>\n",
       "      <td>0.225</td>\n",
       "      <td>0.0</td>\n",
       "    </tr>\n",
       "    <tr>\n",
       "      <th>4</th>\n",
       "      <td>0.275</td>\n",
       "      <td>0.0</td>\n",
       "    </tr>\n",
       "  </tbody>\n",
       "</table>\n",
       "</div>"
      ],
      "text/plain": [
       "   speed  power\n",
       "0  0.000    0.0\n",
       "1  0.125    0.0\n",
       "2  0.150    0.0\n",
       "3  0.225    0.0\n",
       "4  0.275    0.0"
      ]
     },
     "execution_count": 33,
     "metadata": {},
     "output_type": "execute_result"
    }
   ],
   "source": [
    "powerprod_df.head()"
   ]
  },
  {
   "cell_type": "code",
   "execution_count": 34,
   "metadata": {},
   "outputs": [
    {
     "data": {
      "text/html": [
       "<div>\n",
       "<style scoped>\n",
       "    .dataframe tbody tr th:only-of-type {\n",
       "        vertical-align: middle;\n",
       "    }\n",
       "\n",
       "    .dataframe tbody tr th {\n",
       "        vertical-align: top;\n",
       "    }\n",
       "\n",
       "    .dataframe thead th {\n",
       "        text-align: right;\n",
       "    }\n",
       "</style>\n",
       "<table border=\"1\" class=\"dataframe\">\n",
       "  <thead>\n",
       "    <tr style=\"text-align: right;\">\n",
       "      <th></th>\n",
       "      <th>speed</th>\n",
       "      <th>power</th>\n",
       "    </tr>\n",
       "  </thead>\n",
       "  <tbody>\n",
       "    <tr>\n",
       "      <th>495</th>\n",
       "      <td>24.775</td>\n",
       "      <td>0.0</td>\n",
       "    </tr>\n",
       "    <tr>\n",
       "      <th>496</th>\n",
       "      <td>24.850</td>\n",
       "      <td>0.0</td>\n",
       "    </tr>\n",
       "    <tr>\n",
       "      <th>497</th>\n",
       "      <td>24.875</td>\n",
       "      <td>0.0</td>\n",
       "    </tr>\n",
       "    <tr>\n",
       "      <th>498</th>\n",
       "      <td>24.950</td>\n",
       "      <td>0.0</td>\n",
       "    </tr>\n",
       "    <tr>\n",
       "      <th>499</th>\n",
       "      <td>25.000</td>\n",
       "      <td>0.0</td>\n",
       "    </tr>\n",
       "  </tbody>\n",
       "</table>\n",
       "</div>"
      ],
      "text/plain": [
       "      speed  power\n",
       "495  24.775    0.0\n",
       "496  24.850    0.0\n",
       "497  24.875    0.0\n",
       "498  24.950    0.0\n",
       "499  25.000    0.0"
      ]
     },
     "execution_count": 34,
     "metadata": {},
     "output_type": "execute_result"
    }
   ],
   "source": [
    "powerprod_df.tail()"
   ]
  },
  {
   "cell_type": "code",
   "execution_count": 35,
   "metadata": {},
   "outputs": [
    {
     "data": {
      "image/png": "[encoded data removed]",
      "text/plain": [
       "<Figure size 360x360 with 6 Axes>"
      ]
     },
     "metadata": {
      "needs_background": "light"
     },
     "output_type": "display_data"
    }
   ],
   "source": [
    "seaborn.pairplot(powerprod_df);"
   ]
  },
  {
   "cell_type": "markdown",
   "metadata": {},
   "source": [
    "From the pairplot we can see that the shape of power v speed plot is not exactly linear and flattens at low speeds (<10) and high speeds (>20).\n",
    "\n",
    "Additionally there are a few outlier values which don't really make sense and might hint at a problem with measurement or some other error, this is most noticeable for a few cases where speed is greater than 10 but the power is still at 0.\n",
    "Unsure at this point whether these values should be included in the model as these values are probably mistakes."
   ]
  },
  {
   "cell_type": "code",
   "execution_count": 47,
   "metadata": {},
   "outputs": [
    {
     "name": "stdout",
     "output_type": "stream",
     "text": [
      "Line of fit equation:  \n",
      "4.918 x - 13.9\n",
      "\n",
      "Slope: 4.917595665404671\n",
      "Intercept: -13.89990263051961\n",
      "Numpy polyfit score: 0.7289360258564072\n"
     ]
    },
    {
     "data": {
      "image/png": "[encoded data removed]",
      "text/plain": [
       "<Figure size 432x288 with 1 Axes>"
      ]
     },
     "metadata": {
      "needs_background": "light"
     },
     "output_type": "display_data"
    }
   ],
   "source": [
    "from sklearn.metrics import r2_score #importing r2_score to get r squared from polyfit in this cell\n",
    "\n",
    "#for convenience turning df columns into np arrays for x and y\n",
    "x=np.array(powerprod_df['speed'])\n",
    "y=np.array(powerprod_df['power'])\n",
    "plt.plot(x, y, '.', label='Speed v. Power') #make simple x y dot plot\n",
    "#label x and y axis\n",
    "plt.xlabel('Speed')\n",
    "plt.ylabel('Power')\n",
    "#get coefficients for speed versus power, to use to give simple line of fit, pre-linear regression (as shown in Ian's video on Fitting Lines)\n",
    "a,b = np.polyfit(x, y, 1) #thought it would be neater to explicitly set a and b instead of using coeffs\n",
    "\n",
    "#getting predict and rsquared taken form article: https://data36.com/linear-regression-in-python-numpy-polyfit/\n",
    "predict = np.poly1d([a,b]) #predict holds an object that represents equation for the line of fit\n",
    "print('Line of fit equation:', predict)\n",
    "\n",
    "np_polyfit_score = r2_score(y, predict(x)) #np_polyfit_score holds r squared of the model, in this case it's comparing the correct y values against the predicted values from the above predict equation\n",
    "\n",
    "print('\\nSlope:',a)\n",
    "print('Intercept:',b)\n",
    "print('Numpy polyfit score:', np_polyfit_score)\n",
    "\n",
    "#Plot the straight line, here I am using np.unique(x) to make more robust in case there were mutltiple x values as otherwise would not get straight line\n",
    "#for y arg using the standard 'a*x+b' format as we got our a and b coefficients from polyfit\n",
    "plt.plot(np.unique(x), a*np.unique(x)+b, label='Fit')\n",
    "plt.title('Speed v. Power (w/ Polynomial Line of Fit)')\n",
    "\n",
    "plt.legend();"
   ]
  },
  {
   "cell_type": "markdown",
   "metadata": {},
   "source": [
    "Using polyfit prior to the Linear Regression I was able to get a line of fit and have a score for it, next I will look at doing the same using sklearn's LinearRegression function and will compare the r squared of both.\n",
    "\n",
    "## Trying out sklearn's LinearRegression\n",
    "[Documentation for sklearn LinearRegression](https://scikit-learn.org/stable/modules/generated/sklearn.linear_model.LinearRegression.html)\n",
    "[Reshaping Dataframe columns to fit in model]()"
   ]
  },
  {
   "cell_type": "code",
   "execution_count": 26,
   "metadata": {},
   "outputs": [],
   "source": [
    "#Trying a simple Linear regression without splitting dataset\n",
    "#Using this realpython article as a reference https://realpython.com/linear-regression-in-python/\n",
    "X = powerprod_df['speed'].values.reshape(-1,1) #need to convert speed column into a 2d numpy array, e.g. 1 column many rows\n",
    "y = powerprod_df['power'].values.reshape(-1,1)\n",
    "reg = LinearRegression().fit(X, y)"
   ]
  },
  {
   "cell_type": "code",
   "execution_count": 27,
   "metadata": {},
   "outputs": [
    {
     "name": "stdout",
     "output_type": "stream",
     "text": [
      "r squared for generated model: 0.7289360258564072\n",
      "models intercept: [-13.89990263]\n",
      "models slope: [[4.91759567]]\n"
     ]
    }
   ],
   "source": [
    "r_sq = reg.score(X, y) #r_sq (r squared) is the score of the model to show how much prediction error there is https://www.khanacademy.org/math/ap-statistics/bivariate-data-ap/assessing-fit-least-squares-regression/a/r-squared-intuition\n",
    "print(\"r squared for generated model:\", r_sq)\n",
    "print(\"models intercept:\", reg.intercept_) #where line intercepts y axis\n",
    "print(\"models slope:\", reg.coef_) #coef_ returns a 1d array as only 1 target supplied e.g. speed"
   ]
  },
  {
   "cell_type": "code",
   "execution_count": 41,
   "metadata": {},
   "outputs": [
    {
     "data": {
      "image/png": "[encoded data removed]",
      "text/plain": [
       "<Figure size 432x288 with 1 Axes>"
      ]
     },
     "metadata": {
      "needs_background": "light"
     },
     "output_type": "display_data"
    }
   ],
   "source": [
    "plt.scatter(powerprod_df['speed'],powerprod_df['power'], label='Actual Power')\n",
    "plt.plot(X, reg.predict(X), 'red', label='Predicted power')\n",
    "plt.title('Speed v. Power (Actuals and predicted)')\n",
    "plt.legend()\n",
    "plt.show();"
   ]
  },
  {
   "cell_type": "markdown",
   "metadata": {},
   "source": [
    "After this first rough pass at Linear Regression of the windmill data we can see that the line is ok overall, it matches the general shape of the data, but looks like it has a low degree of accuracy for many of the points and seems to give an accurate representation for only the areas where the line intersects the scatter groups.\n",
    "\n",
    "This line is also probably being skewed by the outlier values of 0 power at higher speeds (and possibly at low speeds too)."
   ]
  },
  {
   "cell_type": "code",
   "execution_count": 98,
   "metadata": {},
   "outputs": [],
   "source": [
    "X = powerprod_df['speed'].values.reshape(-1,1)\n",
    "y = powerprod_df['power'].values.reshape(-1,1)\n",
    "#using train_test_split to split out my dataset to training and testing\n",
    "X_train, X_test, y_train, y_test = mod.train_test_split(\n",
    "    X, y, test_size=0.33, random_state=42)"
   ]
  },
  {
   "cell_type": "code",
   "execution_count": 99,
   "metadata": {},
   "outputs": [],
   "source": [
    "#use training data to fit the model\n",
    "reg_train = LinearRegression().fit(X_train, y_train)"
   ]
  },
  {
   "cell_type": "code",
   "execution_count": 100,
   "metadata": {},
   "outputs": [],
   "source": [
    "#get predictions for y using the test data\n",
    "y_pred = reg_train.predict(X_test)"
   ]
  },
  {
   "cell_type": "code",
   "execution_count": 101,
   "metadata": {},
   "outputs": [
    {
     "data": {
      "image/png": "[encoded data removed]",
      "text/plain": [
       "<Figure size 432x288 with 1 Axes>"
      ]
     },
     "metadata": {
      "needs_background": "light"
     },
     "output_type": "display_data"
    }
   ],
   "source": [
    "#plot the test data for X vs the test data for y \n",
    "#overlay the test data for X vs the predicted data for y\n",
    "plt.scatter(X_test,y_test, label='y known')\n",
    "plt.plot(X_test, y_pred, label='y predicted', color='red')\n",
    "plt.title('X test set vs. y test set and predicted')\n",
    "plt.legend()\n",
    "plt.show()"
   ]
  },
  {
   "cell_type": "code",
   "execution_count": 102,
   "metadata": {},
   "outputs": [
    {
     "name": "stdout",
     "output_type": "stream",
     "text": [
      "r squared for generated model: 0.6950401996553021\n",
      "models intercept: [-16.47804425]\n",
      "models slope: [[5.0857491]]\n"
     ]
    }
   ],
   "source": [
    "r_sq = reg_train.score(X_test, y_test)\n",
    "print(\"r squared for generated model:\", r_sq)\n",
    "print(\"models intercept:\", reg_train.intercept_)\n",
    "print(\"models slope:\", reg_train.coef_)"
   ]
  },
  {
   "cell_type": "markdown",
   "metadata": {},
   "source": [
    "We can see this model doesn't perform quite as well as the first one but this makes sense as it is missing around 30% of the overall points, next steps will be to start validating this model and seeing what improvements can be made\n",
    "\n",
    "Taking a quick break away from using the model.score function I try out r2_score and mean_squared_error functions from sklearn.metrics"
   ]
  },
  {
   "cell_type": "code",
   "execution_count": 103,
   "metadata": {},
   "outputs": [
    {
     "name": "stdout",
     "output_type": "stream",
     "text": [
      "0.6950401996553021\n",
      "559.0055059430915\n"
     ]
    }
   ],
   "source": [
    "from sklearn.metrics import mean_squared_error, r2_score\n",
    "\n",
    "print(r2_score(y_test,y_pred))\n",
    "print(mean_squared_error(y_true=y_test,y_pred=y_pred))"
   ]
  },
  {
   "cell_type": "markdown",
   "metadata": {},
   "source": [
    "We have a pretty good r squared value above of greater than 60% which indicates that we have a pretty good fit and are not overfitting, however it is strange how large the mean squared error is at this point, I would have expected it to be significantly smaller and am not sure as to why it is so large, perhaps this is due to having many negative values due to the y intercept.\n",
    "\n",
    "In an effort to improve the model I am now going to clean up the original dataframe and eliminate instances where there is a value greater than 0 for speed and equal to 0 for power."
   ]
  },
  {
   "cell_type": "code",
   "execution_count": 104,
   "metadata": {},
   "outputs": [],
   "source": [
    "cleaned_df = powerprod_df #assign existing dataframe to new variable to be cleaned up"
   ]
  },
  {
   "cell_type": "code",
   "execution_count": 105,
   "metadata": {},
   "outputs": [
    {
     "data": {
      "text/html": [
       "<div>\n",
       "<style scoped>\n",
       "    .dataframe tbody tr th:only-of-type {\n",
       "        vertical-align: middle;\n",
       "    }\n",
       "\n",
       "    .dataframe tbody tr th {\n",
       "        vertical-align: top;\n",
       "    }\n",
       "\n",
       "    .dataframe thead th {\n",
       "        text-align: right;\n",
       "    }\n",
       "</style>\n",
       "<table border=\"1\" class=\"dataframe\">\n",
       "  <thead>\n",
       "    <tr style=\"text-align: right;\">\n",
       "      <th></th>\n",
       "      <th>speed</th>\n",
       "      <th>power</th>\n",
       "    </tr>\n",
       "  </thead>\n",
       "  <tbody>\n",
       "    <tr>\n",
       "      <th>0</th>\n",
       "      <td>0.000</td>\n",
       "      <td>0.000</td>\n",
       "    </tr>\n",
       "    <tr>\n",
       "      <th>5</th>\n",
       "      <td>0.325</td>\n",
       "      <td>4.331</td>\n",
       "    </tr>\n",
       "    <tr>\n",
       "      <th>6</th>\n",
       "      <td>0.400</td>\n",
       "      <td>5.186</td>\n",
       "    </tr>\n",
       "    <tr>\n",
       "      <th>7</th>\n",
       "      <td>0.450</td>\n",
       "      <td>3.826</td>\n",
       "    </tr>\n",
       "    <tr>\n",
       "      <th>8</th>\n",
       "      <td>0.501</td>\n",
       "      <td>1.048</td>\n",
       "    </tr>\n",
       "    <tr>\n",
       "      <th>...</th>\n",
       "      <td>...</td>\n",
       "      <td>...</td>\n",
       "    </tr>\n",
       "    <tr>\n",
       "      <th>485</th>\n",
       "      <td>24.249</td>\n",
       "      <td>103.700</td>\n",
       "    </tr>\n",
       "    <tr>\n",
       "      <th>486</th>\n",
       "      <td>24.299</td>\n",
       "      <td>93.694</td>\n",
       "    </tr>\n",
       "    <tr>\n",
       "      <th>487</th>\n",
       "      <td>24.349</td>\n",
       "      <td>93.078</td>\n",
       "    </tr>\n",
       "    <tr>\n",
       "      <th>488</th>\n",
       "      <td>24.374</td>\n",
       "      <td>98.223</td>\n",
       "    </tr>\n",
       "    <tr>\n",
       "      <th>489</th>\n",
       "      <td>24.399</td>\n",
       "      <td>95.117</td>\n",
       "    </tr>\n",
       "  </tbody>\n",
       "</table>\n",
       "<p>452 rows × 2 columns</p>\n",
       "</div>"
      ],
      "text/plain": [
       "      speed    power\n",
       "0     0.000    0.000\n",
       "5     0.325    4.331\n",
       "6     0.400    5.186\n",
       "7     0.450    3.826\n",
       "8     0.501    1.048\n",
       "..      ...      ...\n",
       "485  24.249  103.700\n",
       "486  24.299   93.694\n",
       "487  24.349   93.078\n",
       "488  24.374   98.223\n",
       "489  24.399   95.117\n",
       "\n",
       "[452 rows x 2 columns]"
      ]
     },
     "execution_count": 105,
     "metadata": {},
     "output_type": "execute_result"
    }
   ],
   "source": [
    "cleaned_df = cleaned_df[(cleaned_df['power'] != 0) | (cleaned_df['speed'] == 0.0)] #remove rows where power is greater than 0 OR speed is equal to 0\n",
    "cleaned_df"
   ]
  },
  {
   "cell_type": "code",
   "execution_count": 106,
   "metadata": {},
   "outputs": [
    {
     "data": {
      "text/html": [
       "<div>\n",
       "<style scoped>\n",
       "    .dataframe tbody tr th:only-of-type {\n",
       "        vertical-align: middle;\n",
       "    }\n",
       "\n",
       "    .dataframe tbody tr th {\n",
       "        vertical-align: top;\n",
       "    }\n",
       "\n",
       "    .dataframe thead th {\n",
       "        text-align: right;\n",
       "    }\n",
       "</style>\n",
       "<table border=\"1\" class=\"dataframe\">\n",
       "  <thead>\n",
       "    <tr style=\"text-align: right;\">\n",
       "      <th></th>\n",
       "      <th>speed</th>\n",
       "      <th>power</th>\n",
       "    </tr>\n",
       "  </thead>\n",
       "  <tbody>\n",
       "    <tr>\n",
       "      <th>count</th>\n",
       "      <td>452.000000</td>\n",
       "      <td>452.000000</td>\n",
       "    </tr>\n",
       "    <tr>\n",
       "      <th>mean</th>\n",
       "      <td>12.975531</td>\n",
       "      <td>53.113478</td>\n",
       "    </tr>\n",
       "    <tr>\n",
       "      <th>std</th>\n",
       "      <td>6.855738</td>\n",
       "      <td>40.554469</td>\n",
       "    </tr>\n",
       "    <tr>\n",
       "      <th>min</th>\n",
       "      <td>0.000000</td>\n",
       "      <td>0.000000</td>\n",
       "    </tr>\n",
       "    <tr>\n",
       "      <th>25%</th>\n",
       "      <td>7.294500</td>\n",
       "      <td>8.412750</td>\n",
       "    </tr>\n",
       "    <tr>\n",
       "      <th>50%</th>\n",
       "      <td>13.013000</td>\n",
       "      <td>56.123500</td>\n",
       "    </tr>\n",
       "    <tr>\n",
       "      <th>75%</th>\n",
       "      <td>18.775250</td>\n",
       "      <td>94.698250</td>\n",
       "    </tr>\n",
       "    <tr>\n",
       "      <th>max</th>\n",
       "      <td>24.399000</td>\n",
       "      <td>113.556000</td>\n",
       "    </tr>\n",
       "  </tbody>\n",
       "</table>\n",
       "</div>"
      ],
      "text/plain": [
       "            speed       power\n",
       "count  452.000000  452.000000\n",
       "mean    12.975531   53.113478\n",
       "std      6.855738   40.554469\n",
       "min      0.000000    0.000000\n",
       "25%      7.294500    8.412750\n",
       "50%     13.013000   56.123500\n",
       "75%     18.775250   94.698250\n",
       "max     24.399000  113.556000"
      ]
     },
     "execution_count": 106,
     "metadata": {},
     "output_type": "execute_result"
    }
   ],
   "source": [
    "cleaned_df.describe()"
   ]
  },
  {
   "cell_type": "code",
   "execution_count": 107,
   "metadata": {},
   "outputs": [
    {
     "data": {
      "text/plain": [
       "24007.291999999998"
      ]
     },
     "execution_count": 107,
     "metadata": {},
     "output_type": "execute_result"
    }
   ],
   "source": [
    "powerprod_df['power'].sum()\n"
   ]
  },
  {
   "cell_type": "code",
   "execution_count": 108,
   "metadata": {},
   "outputs": [
    {
     "data": {
      "text/plain": [
       "24007.291999999998"
      ]
     },
     "execution_count": 108,
     "metadata": {},
     "output_type": "execute_result"
    }
   ],
   "source": [
    "cleaned_df['power'].sum()"
   ]
  },
  {
   "cell_type": "code",
   "execution_count": 109,
   "metadata": {},
   "outputs": [],
   "source": [
    "X = cleaned_df['speed'].values.reshape(-1,1)\n",
    "y = cleaned_df['power'].values.reshape(-1,1)\n",
    "#using train_test_split to split out my dataset to training and testing, sticking with test size of 33% of values\n",
    "X_train, X_test, y_train, y_test = mod.train_test_split(\n",
    "    X, y, test_size=0.33, random_state=42)\n",
    "#use training data to fit the model\n",
    "reg_train = LinearRegression().fit(X_train, y_train)\n",
    "#get predictions for y using the test data\n",
    "y_pred = reg_train.predict(X_test)"
   ]
  },
  {
   "cell_type": "code",
   "execution_count": 110,
   "metadata": {},
   "outputs": [
    {
     "data": {
      "image/png": "[encoded data removed]",
      "text/plain": [
       "<Figure size 432x288 with 1 Axes>"
      ]
     },
     "metadata": {
      "needs_background": "light"
     },
     "output_type": "display_data"
    }
   ],
   "source": [
    "#plot the test data for X vs the test data for y \n",
    "#overlay the test data for X vs the predicted data for y\n",
    "plt.scatter(X_test,y_test, label='y known')\n",
    "plt.plot(X_test, y_pred, label='y predicted', color='red')\n",
    "plt.title('X test set vs. y test set and predicted')\n",
    "plt.legend()\n",
    "plt.show()"
   ]
  },
  {
   "cell_type": "code",
   "execution_count": 111,
   "metadata": {},
   "outputs": [
    {
     "name": "stdout",
     "output_type": "stream",
     "text": [
      "r squared for generated model: 0.9065315848026159\n",
      "models intercept: [-21.29091501]\n",
      "models slope: [[5.71769211]]\n",
      "mean squared error: 170.10248213054675\n"
     ]
    }
   ],
   "source": [
    "r_sq = reg_train.score(X_test, y_test)\n",
    "print(\"r squared for generated model:\", r_sq)\n",
    "print(\"models intercept:\", reg_train.intercept_)\n",
    "print(\"models slope:\", reg_train.coef_)\n",
    "print(\"mean squared error:\", mean_squared_error(y_true=y_test,y_pred=y_pred))"
   ]
  },
  {
   "cell_type": "markdown",
   "metadata": {},
   "source": [
    "By cleaning up the data and removing outliers (where power is 0 and there is a value greater than 0 for speed), I have significantly increased the r_squared by nearly 20 percent, making it now approximately 90%.\n",
    "\n",
    "The mean squared error has also significantly reduced from what it formerly was without any data removed."
   ]
  },
  {
   "cell_type": "markdown",
   "metadata": {},
   "source": [
    "# TODO - Add function to perform linear regression fit model etc. add score of model against entire dataset"
   ]
  },
  {
   "cell_type": "code",
   "execution_count": null,
   "metadata": {},
   "outputs": [],
   "source": []
  },
  {
   "cell_type": "code",
   "execution_count": null,
   "metadata": {},
   "outputs": [],
   "source": []
  }
 ],
 "metadata": {
  "kernelspec": {
   "display_name": "Python 3",
   "language": "python",
   "name": "python3"
  },
  "language_info": {
   "codemirror_mode": {
    "name": "ipython",
    "version": 3
   },
   "file_extension": ".py",
   "mimetype": "text/x-python",
   "name": "python",
   "nbconvert_exporter": "python",
   "pygments_lexer": "ipython3",
   "version": "3.8.5"
  }
 },
 "nbformat": 4,
 "nbformat_minor": 4
}
